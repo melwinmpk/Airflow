{
 "cells": [
  {
   "cell_type": "markdown",
   "id": "e03840e1",
   "metadata": {},
   "source": [
    "<b>What is Backfilling and catchup</b>\n",
    "<p><b>Catch Up</b> =The scheduler, by default, will kick off a DAG Run for any data interval that has not been run since the last data interval (or has been cleared). This concept is called Catchup.</p>\n",
    "<p><b>Backfill</b> = \n",
    "The operation of running a DAG for a specified date in the past is called “backfilling.” The Airflow command-line interface provides a convenient command to run such backfills.</p>"
   ]
  },
  {
   "cell_type": "markdown",
   "id": "bd1eb9aa",
   "metadata": {},
   "source": [
    "<img src=\"https://airflow.apache.org/docs/apache-airflow/stable/_images/basic-dag.png\"></img>\n",
    "<pre>\n",
    "a >> [b,c] >> d\n",
    "</pre>"
   ]
  },
  {
   "cell_type": "markdown",
   "id": "99279764",
   "metadata": {},
   "source": [
    "AirFlow by default Runs the Task Sequentually "
   ]
  },
  {
   "cell_type": "markdown",
   "id": "7d4a99b8",
   "metadata": {},
   "source": [
    "To Set the Airflow to run Task Parallely \n",
    "<ul>\n",
    "<li>Chang the Data Base from the Sqlite to other DataBase like PostGress where multiple writes are allowed</li>\n",
    "<li>Change the Sequentual Executor to Local Executor</li>\n",
    "</ul>\n",
    "<p>Note: Watch Lectore 31. [Practice] Start scaling with the Local Executor </p>"
   ]
  },
  {
   "cell_type": "markdown",
   "id": "492b26e7",
   "metadata": {},
   "source": [
    "we can Scale the Airflow Using the \n",
    "<ul>\n",
    "    <li>Celery Executor</li>\n",
    "    <li>Kuberneties Executor</li>\n",
    "</ul>"
   ]
  },
  {
   "cell_type": "markdown",
   "id": "4686be0e",
   "metadata": {},
   "source": [
    "<img src=\"https://github.com/melwinmpk/Airflow/blob/main/img/Celery%20Executor.jpg?raw=true\" width=\"600\"></img>"
   ]
  },
  {
   "cell_type": "code",
   "execution_count": null,
   "id": "12dfae2b",
   "metadata": {},
   "outputs": [],
   "source": []
  }
 ],
 "metadata": {
  "kernelspec": {
   "display_name": "Python 3 (ipykernel)",
   "language": "python",
   "name": "python3"
  },
  "language_info": {
   "codemirror_mode": {
    "name": "ipython",
    "version": 3
   },
   "file_extension": ".py",
   "mimetype": "text/x-python",
   "name": "python",
   "nbconvert_exporter": "python",
   "pygments_lexer": "ipython3",
   "version": "3.8.12"
  }
 },
 "nbformat": 4,
 "nbformat_minor": 5
}
