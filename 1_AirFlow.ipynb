{
 "cells": [
  {
   "cell_type": "markdown",
   "id": "35075ac9",
   "metadata": {},
   "source": [
    "### What is AirFlow?\n",
    "<p>Apache Airflow is an open-source workflow management platform for data engineering pipelines.</p>\n",
    "<p>Apache Airflow is an opersource platform to programmaticakky author, schedule and moniter workflows</p>\n",
    "<p>It Is Scalable and Extensible </p>"
   ]
  },
  {
   "cell_type": "markdown",
   "id": "45736958",
   "metadata": {},
   "source": [
    "## Core Components\n",
    "\n",
    "<table>\n",
    "    <tr>\n",
    "        <th>Web server</th>\n",
    "        <td>Flask server with Gunicon serving the UI</td>\n",
    "    </tr>\n",
    "    <tr>\n",
    "        <th>Scheduler</th>\n",
    "        <td>Daemon in charge of scheduling workflows</td>\n",
    "    </tr>\n",
    "    <tr>\n",
    "        <th>Metastore</th>\n",
    "        <td>Database where metadata are stored</td>\n",
    "    </tr>\n",
    "    <tr>\n",
    "        <th>Executor</th>\n",
    "        <td>Class defining how your tasks should be executed</td>\n",
    "    </tr>\n",
    "    <tr>\n",
    "        <th>Worker</th>\n",
    "        <td>Process/sub process executing your task</td>\n",
    "    </tr>\n",
    "</table>"
   ]
  },
  {
   "cell_type": "code",
   "execution_count": 2,
   "id": "c3d4d24e",
   "metadata": {},
   "outputs": [
    {
     "ename": "SyntaxError",
     "evalue": "invalid syntax (816854619.py, line 1)",
     "output_type": "error",
     "traceback": [
      "\u001b[1;36m  Input \u001b[1;32mIn [2]\u001b[1;36m\u001b[0m\n\u001b[1;33m    Action Operator\u001b[0m\n\u001b[1;37m           ^\u001b[0m\n\u001b[1;31mSyntaxError\u001b[0m\u001b[1;31m:\u001b[0m invalid syntax\n"
     ]
    }
   ],
   "source": [
    "Action Operator\n",
    "Transfer Operator\n",
    "Sensor Operator\n"
   ]
  },
  {
   "cell_type": "markdown",
   "id": "da22e3f4",
   "metadata": {},
   "source": [
    "In the Single Node Architecture the Executors will be having the queue\n",
    "\n",
    "<img src=\"https://github.com/melwinmpk/Airflow/blob/main/img/Single_Node_Architecture.PNG?raw=true\"></img>"
   ]
  },
  {
   "cell_type": "markdown",
   "id": "840d8fb7",
   "metadata": {},
   "source": [
    "<img src=\"https://github.com/melwinmpk/Airflow/blob/main/img/Multi_Node_Architecture.PNG?raw=true\"></img>"
   ]
  },
  {
   "cell_type": "markdown",
   "id": "5bd944b0",
   "metadata": {},
   "source": [
    "Maintain One Operator One Task"
   ]
  },
  {
   "cell_type": "markdown",
   "id": "393a20ca",
   "metadata": {},
   "source": [
    "There are 3 types of Operator\n",
    "<ul>\n",
    "    <li><b>Action Operators</b>: Execute an action ex: Python Operator, Bash Operator</li>\n",
    "    <li><b>Transfer Operators</b>:to Transfer Data</li>\n",
    "    <li><b>Sensors Operators</b>:Wait for a condition to be met</li>\n",
    "<ul>"
   ]
  },
  {
   "cell_type": "markdown",
   "id": "b9718e0e",
   "metadata": {},
   "source": [
    "While using any DataBase Operator <br>\n",
    "Like the SqliteOperator <br>\n",
    "for the Connection_id we need to create the Connection in the Airflow UI <br>\n",
    "AirglowUI->Admins->Connections <br>\n",
    "Mention the same Connection ID in the Operator as well"
   ]
  },
  {
   "cell_type": "markdown",
   "id": "713e1335",
   "metadata": {},
   "source": [
    "Test any new Task which is added in a DAG \n",
    "\n",
    "<pre>\n",
    "airflow tasks test < DAG_ID > < TASK_ID > < Execution_Date >\n",
    "\n",
    "airflow task test user_processing creating_table 2020-01-01\n",
    "</pre>"
   ]
  },
  {
   "cell_type": "code",
   "execution_count": null,
   "id": "12f24d22",
   "metadata": {},
   "outputs": [],
   "source": []
  }
 ],
 "metadata": {
  "kernelspec": {
   "display_name": "Python 3 (ipykernel)",
   "language": "python",
   "name": "python3"
  },
  "language_info": {
   "codemirror_mode": {
    "name": "ipython",
    "version": 3
   },
   "file_extension": ".py",
   "mimetype": "text/x-python",
   "name": "python",
   "nbconvert_exporter": "python",
   "pygments_lexer": "ipython3",
   "version": "3.8.12"
  }
 },
 "nbformat": 4,
 "nbformat_minor": 5
}
