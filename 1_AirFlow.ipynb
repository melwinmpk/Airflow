{
 "cells": [
  {
   "cell_type": "markdown",
   "id": "29f5800e",
   "metadata": {},
   "source": [
    "### What is AirFlow?\n",
    "<p>Apache Airflow is an open-source workflow management platform for data engineering pipelines.</p>\n",
    "<p>Apache Airflow is an opersource platform to programmaticakky author, schedule and moniter workflows</p>\n",
    "<p>It Is Scalable and Extensible </p>"
   ]
  },
  {
   "cell_type": "markdown",
   "id": "a549e7cd",
   "metadata": {},
   "source": [
    "## Core Components\n",
    "\n",
    "<table>\n",
    "    <tr>\n",
    "        <th>Web server</th>\n",
    "        <td>Flask server with Gunicon serving the UI</td>\n",
    "    </tr>\n",
    "    <tr>\n",
    "        <th>Scheduler</th>\n",
    "        <td>Daemon in charge of scheduling workflows</td>\n",
    "    </tr>\n",
    "    <tr>\n",
    "        <th>Metastore</th>\n",
    "        <td>Database where metadata are stored</td>\n",
    "    </tr>\n",
    "    <tr>\n",
    "        <th>Executor</th>\n",
    "        <td>Class defining how your tasks should be executed</td>\n",
    "    </tr>\n",
    "    <tr>\n",
    "        <th>Worker</th>\n",
    "        <td>Process/sub process executing your task</td>\n",
    "    </tr>\n",
    "</table>"
   ]
  },
  {
   "cell_type": "code",
   "execution_count": 2,
   "id": "37e7b5e1",
   "metadata": {},
   "outputs": [
    {
     "ename": "SyntaxError",
     "evalue": "invalid syntax (816854619.py, line 1)",
     "output_type": "error",
     "traceback": [
      "\u001b[1;36m  Input \u001b[1;32mIn [2]\u001b[1;36m\u001b[0m\n\u001b[1;33m    Action Operator\u001b[0m\n\u001b[1;37m           ^\u001b[0m\n\u001b[1;31mSyntaxError\u001b[0m\u001b[1;31m:\u001b[0m invalid syntax\n"
     ]
    }
   ],
   "source": [
    "Action Operator\n",
    "Transfer Operator\n",
    "Sensor Operator\n"
   ]
  },
  {
   "cell_type": "code",
   "execution_count": null,
   "id": "04214c1e",
   "metadata": {},
   "outputs": [],
   "source": [
    "in the Single Node Architecture the Executors will be having the queue"
   ]
  }
 ],
 "metadata": {
  "kernelspec": {
   "display_name": "Python 3 (ipykernel)",
   "language": "python",
   "name": "python3"
  },
  "language_info": {
   "codemirror_mode": {
    "name": "ipython",
    "version": 3
   },
   "file_extension": ".py",
   "mimetype": "text/x-python",
   "name": "python",
   "nbconvert_exporter": "python",
   "pygments_lexer": "ipython3",
   "version": "3.8.12"
  }
 },
 "nbformat": 4,
 "nbformat_minor": 5
}
